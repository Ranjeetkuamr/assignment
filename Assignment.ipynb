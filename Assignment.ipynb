{
 "cells": [
  {
   "cell_type": "markdown",
   "id": "dc2c6e7e-ba05-4ccb-8382-d38b7b6b65ea",
   "metadata": {},
   "source": [
    "##                                Assignment -01"
   ]
  },
  {
   "cell_type": "markdown",
   "id": "adcf11b1-4bbf-4166-95af-385edd92bab2",
   "metadata": {},
   "source": [
    "## Q1. Create one variable containing following type of data:\n",
    "(i) string\n",
    "(ii) list\n",
    "(iii) float\n",
    "(iv) tuple"
   ]
  },
  {
   "cell_type": "code",
   "execution_count": 3,
   "id": "e05be4cc-885c-4dce-95ee-58b645a1747b",
   "metadata": {},
   "outputs": [],
   "source": [
    "variable=[\n",
    "\"Hello World\",# string\n",
    "[1, 2, 3, 4, 5],#\n",
    "3.14,\n",
    "(1, 2, 3, 4, 5)\n",
    "]"
   ]
  },
  {
   "cell_type": "code",
   "execution_count": 4,
   "id": "d2ff9a52-247f-4c28-8016-474ce5db7638",
   "metadata": {},
   "outputs": [
    {
     "data": {
      "text/plain": [
       "['Hello World', [1, 2, 3, 4, 5], 3.14, (1, 2, 3, 4, 5)]"
      ]
     },
     "execution_count": 4,
     "metadata": {},
     "output_type": "execute_result"
    }
   ],
   "source": [
    "variable"
   ]
  },
  {
   "cell_type": "markdown",
   "id": "c4e91439-b2dd-4784-8189-24e94c12a484",
   "metadata": {},
   "source": [
    " ## Q2. Given are some following variables containing data:\n",
    "(i) var1 = ‘ ‘\n",
    "(ii) var2 = ‘[ DS , ML , Python]’\n",
    "(iii) var3 = [ ‘DS’ , ’ML’ , ‘Python’ ]\n",
    "(iv) var4 = 1.\n",
    "\n",
    "What will be the data type of the above given variable."
   ]
  },
  {
   "cell_type": "code",
   "execution_count": null,
   "id": "f93313e0-5f8d-4bd3-ad4a-2d0f759a15f4",
   "metadata": {},
   "outputs": [],
   "source": [
    "Here's a summary of the data types:\n",
    "\n",
    "(i) var1: string\n",
    "(ii) var2: string\n",
    "(iii) var3: list\n",
    "(iv) var4: float"
   ]
  },
  {
   "cell_type": "markdown",
   "id": "48a22b67-68b4-4957-8495-7efee06950b2",
   "metadata": {},
   "source": [
    "## Q3. Explain the use of the following operators using an example:\n",
    "(i) /\n",
    "(ii) %\n",
    "(iii) //\n",
    "(iv) **"
   ]
  },
  {
   "cell_type": "code",
   "execution_count": 3,
   "id": "3d956ef7-52e2-48b4-ad2e-b513de9aec07",
   "metadata": {},
   "outputs": [
    {
     "name": "stdout",
     "output_type": "stream",
     "text": [
      "0.6666666666666666\n"
     ]
    }
   ],
   "source": [
    " # (i) \"/\" operator is the division operator. It is used to divide one number by another and returns the quotient or result of the division\n",
    "# example:-\n",
    "a=2\n",
    "b=3\n",
    "y=a/b\n",
    "print(y)"
   ]
  },
  {
   "cell_type": "code",
   "execution_count": 4,
   "id": "5b1e63f0-50cc-4afe-bc20-c8c71b9a9bbc",
   "metadata": {},
   "outputs": [
    {
     "name": "stdout",
     "output_type": "stream",
     "text": [
      "1\n"
     ]
    }
   ],
   "source": [
    " # (ii) \"%\" operator is the modulus operator. It returns the remainder of the division between two numbers.\n",
    " #example:-\n",
    "a=4\n",
    "b=3\n",
    "y=a%b\n",
    "print(y)"
   ]
  },
  {
   "cell_type": "code",
   "execution_count": 5,
   "id": "f38204ec-c23b-4ceb-9627-616a1b7c8cbc",
   "metadata": {},
   "outputs": [
    {
     "name": "stdout",
     "output_type": "stream",
     "text": [
      "2\n"
     ]
    }
   ],
   "source": [
    "#(iii) \"//\" operator is the floor division operator.\n",
    "#It performs division between two numbers and returns the largest possible integer that is less than or equal to the quotient\n",
    "# example:-\n",
    "a=10\n",
    "b=4\n",
    "y=a//b\n",
    "print(y)"
   ]
  },
  {
   "cell_type": "code",
   "execution_count": 6,
   "id": "b20c5866-c2e2-439d-af1e-ef318cd3c7e4",
   "metadata": {},
   "outputs": [
    {
     "name": "stdout",
     "output_type": "stream",
     "text": [
      "16\n"
     ]
    }
   ],
   "source": [
    "#(iv) \"**\" operator is the exponentiation operator. It raises a number to the power of another number\n",
    "#example:-\n",
    "a=2\n",
    "b=4\n",
    "y=a**b\n",
    "print(y)"
   ]
  },
  {
   "cell_type": "markdown",
   "id": "9c0b2034-ae33-47e0-b8ab-67df973b8f0d",
   "metadata": {},
   "source": [
    "# Q4. Create a list of length 10 of your choice containing multiple types of data. Using for loop print the element and its data type."
   ]
  },
  {
   "cell_type": "code",
   "execution_count": 7,
   "id": "08a5b682-7968-439c-b76b-09b6b673ddfe",
   "metadata": {},
   "outputs": [
    {
     "name": "stdout",
     "output_type": "stream",
     "text": [
      "1 <class 'int'>\n",
      "hello <class 'str'>\n",
      "3.14 <class 'float'>\n",
      "True <class 'bool'>\n",
      "[1, 2, 3] <class 'list'>\n",
      "{'name': 'John', 'age': 25} <class 'dict'>\n",
      "Ranjeet <class 'str'>\n",
      "(4, 5, 6) <class 'tuple'>\n",
      "world <class 'str'>\n",
      "False <class 'bool'>\n"
     ]
    }
   ],
   "source": [
    "lst = [1, 'hello', 3.14, True, [1, 2, 3], {'name': 'John', 'age': 25}, \"Ranjeet\", (4, 5, 6), 'world', False]\n",
    "\n",
    "for i in lst:\n",
    "    print(i, type(i))\n"
   ]
  },
  {
   "cell_type": "markdown",
   "id": "8fdf2511-55e4-4583-aad5-4c2a7da21448",
   "metadata": {},
   "source": [
    "# Q5. Using a while loop, verify if the number A is purely divisible by number B and if so then how manytimes it can be divisible."
   ]
  },
  {
   "cell_type": "code",
   "execution_count": 8,
   "id": "5b469729-bfe4-42bd-ab0c-3b68a235d8b0",
   "metadata": {},
   "outputs": [
    {
     "name": "stdout",
     "output_type": "stream",
     "text": [
      "Number of times A is divisible by B: 1\n"
     ]
    }
   ],
   "source": [
    "A = 36  \n",
    "B = 4   \n",
    "count = 0  \n",
    "while A % B == 0:\n",
    "    A = A / B\n",
    "    count += 1\n",
    "\n",
    "print(\"Number of times A is divisible by B:\", count)\n"
   ]
  },
  {
   "cell_type": "markdown",
   "id": "b5116622-a4a7-4c63-9676-13605fb5c92d",
   "metadata": {},
   "source": [
    "# Q6. Create a list containing 25 int type data. Using for loop and if-else condition print if the element isdivisible by 3 or not."
   ]
  },
  {
   "cell_type": "code",
   "execution_count": 9,
   "id": "d449f276-0902-463f-a30e-441ee4eb02d4",
   "metadata": {},
   "outputs": [
    {
     "name": "stdout",
     "output_type": "stream",
     "text": [
      "2 is not divisible by 3\n",
      "6 is divisible by 3\n",
      "9 is divisible by 3\n",
      "12 is divisible by 3\n",
      "17 is not divisible by 3\n",
      "21 is divisible by 3\n",
      "24 is divisible by 3\n",
      "27 is divisible by 3\n",
      "32 is not divisible by 3\n",
      "36 is divisible by 3\n",
      "39 is divisible by 3\n",
      "42 is divisible by 3\n",
      "47 is not divisible by 3\n",
      "51 is divisible by 3\n",
      "54 is divisible by 3\n",
      "57 is divisible by 3\n",
      "62 is not divisible by 3\n",
      "66 is divisible by 3\n",
      "69 is divisible by 3\n",
      "72 is divisible by 3\n",
      "77 is not divisible by 3\n",
      "81 is divisible by 3\n",
      "84 is divisible by 3\n",
      "87 is divisible by 3\n",
      "92 is not divisible by 3\n"
     ]
    }
   ],
   "source": [
    "lst = [2, 6, 9, 12, 17, 21, 24, 27, 32, 36, 39, 42, 47, 51, 54, 57, 62, 66, 69, 72, 77, 81, 84, 87, 92]\n",
    "\n",
    "for element in lst:\n",
    "    if element % 3 == 0:\n",
    "        print(element, \"is divisible by 3\")\n",
    "    else:\n",
    "        print(element, \"is not divisible by 3\")\n"
   ]
  },
  {
   "cell_type": "markdown",
   "id": "19de0831-aa60-4e9c-bf13-f40931ff0561",
   "metadata": {},
   "source": [
    "# Q7. What do you understand about mutable and immutable data types? Give examples for both showing this property."
   ]
  },
  {
   "cell_type": "code",
   "execution_count": null,
   "id": "72e9ed60-3c18-42d5-a40a-066cab529777",
   "metadata": {},
   "outputs": [],
   "source": [
    "1 .Immutable Data Types:-\n",
    "Immutable data types are those whose values cannot be changed after they are created. "
   ]
  },
  {
   "cell_type": "code",
   "execution_count": 13,
   "id": "4316336d-8f6f-4127-9f46-cd9b29625a9c",
   "metadata": {},
   "outputs": [
    {
     "name": "stdout",
     "output_type": "stream",
     "text": [
      "6\n"
     ]
    },
    {
     "ename": "TypeError",
     "evalue": "'tuple' object does not support item assignment",
     "output_type": "error",
     "traceback": [
      "\u001b[0;31m---------------------------------------------------------------------------\u001b[0m",
      "\u001b[0;31mTypeError\u001b[0m                                 Traceback (most recent call last)",
      "Cell \u001b[0;32mIn [13], line 6\u001b[0m\n\u001b[1;32m      3\u001b[0m \u001b[38;5;28mprint\u001b[39m(x)  \u001b[38;5;66;03m# output 6\u001b[39;00m\n\u001b[1;32m      5\u001b[0m my_tuple \u001b[38;5;241m=\u001b[39m (\u001b[38;5;241m1\u001b[39m, \u001b[38;5;241m2\u001b[39m, \u001b[38;5;241m3\u001b[39m)\n\u001b[0;32m----> 6\u001b[0m \u001b[43mmy_tuple\u001b[49m\u001b[43m[\u001b[49m\u001b[38;5;241;43m0\u001b[39;49m\u001b[43m]\u001b[49m \u001b[38;5;241m=\u001b[39m \u001b[38;5;241m4\u001b[39m\n",
      "\u001b[0;31mTypeError\u001b[0m: 'tuple' object does not support item assignment"
     ]
    }
   ],
   "source": [
    "x = 5\n",
    "x += 1  # create object\n",
    "print(x)  # output 6\n",
    "\n",
    "my_tuple = (1, 2, 3)\n",
    "my_tuple[0] = 4  # value cannot be modified"
   ]
  },
  {
   "cell_type": "code",
   "execution_count": null,
   "id": "81cce5c4-9873-4df1-8a3a-13f6f1459b17",
   "metadata": {},
   "outputs": [],
   "source": [
    "2. Mutable Data Types:-\n",
    "Mutable data types are those whose values can be changed after they are created"
   ]
  },
  {
   "cell_type": "code",
   "execution_count": 14,
   "id": "a940ff44-acf9-4f55-870a-a0ba2d52780c",
   "metadata": {},
   "outputs": [
    {
     "name": "stdout",
     "output_type": "stream",
     "text": [
      "[4, 2, 3]\n"
     ]
    }
   ],
   "source": [
    "my_list = [1, 2, 3]\n",
    "my_list[0] = 4  # Modifies the first element of the list\n",
    "print(my_list)"
   ]
  },
  {
   "cell_type": "code",
   "execution_count": null,
   "id": "e6a4caa4-bc77-4578-b9aa-30e614cc95f9",
   "metadata": {},
   "outputs": [],
   "source": []
  }
 ],
 "metadata": {
  "kernelspec": {
   "display_name": "Python 3 (ipykernel)",
   "language": "python",
   "name": "python3"
  },
  "language_info": {
   "codemirror_mode": {
    "name": "ipython",
    "version": 3
   },
   "file_extension": ".py",
   "mimetype": "text/x-python",
   "name": "python",
   "nbconvert_exporter": "python",
   "pygments_lexer": "ipython3",
   "version": "3.10.6"
  }
 },
 "nbformat": 4,
 "nbformat_minor": 5
}
